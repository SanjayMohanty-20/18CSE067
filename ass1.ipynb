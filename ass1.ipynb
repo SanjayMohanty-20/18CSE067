{
  "nbformat": 4,
  "nbformat_minor": 0,
  "metadata": {
    "colab": {
      "name": "ass1.ipynb",
      "provenance": [],
      "authorship_tag": "ABX9TyPPc9PUUtQGFVV3/f2UxcR1",
      "include_colab_link": true
    },
    "kernelspec": {
      "name": "python3",
      "display_name": "Python 3"
    }
  },
  "cells": [
    {
      "cell_type": "markdown",
      "metadata": {
        "id": "view-in-github",
        "colab_type": "text"
      },
      "source": [
        "<a href=\"https://colab.research.google.com/github/SanjayMohanty-20/18CSE067/blob/main/ass1.ipynb\" target=\"_parent\"><img src=\"https://colab.research.google.com/assets/colab-badge.svg\" alt=\"Open In Colab\"/></a>"
      ]
    },
    {
      "cell_type": "code",
      "metadata": {
        "id": "0ZF_g023RloP"
      },
      "source": [
        "import numpy\n",
        "from scipy import stats"
      ],
      "execution_count": 1,
      "outputs": []
    },
    {
      "cell_type": "code",
      "metadata": {
        "id": "9pZLl_X5XH_P"
      },
      "source": [
        "weight=[40,60,70,80,90]"
      ],
      "execution_count": 2,
      "outputs": []
    },
    {
      "cell_type": "code",
      "metadata": {
        "id": "ywHBfx0MXLmG"
      },
      "source": [
        "x=numpy.mean(weight)\n",
        "y=numpy.median(weight)\n",
        "z=stats.mode(weight)\n",
        "s=numpy.std(weight)\n",
        "v=numpy.var(weight)\n"
      ],
      "execution_count": 3,
      "outputs": []
    },
    {
      "cell_type": "code",
      "metadata": {
        "colab": {
          "base_uri": "https://localhost:8080/"
        },
        "id": "udLC0CxOXOXQ",
        "outputId": "897b9253-0509-431d-b2b4-b22c83894ebb"
      },
      "source": [
        "print(\"mean is :\",x)\n",
        "print(\"median is :\",y)\n",
        "print(\"mode is :\",z)\n",
        "print(\"standard deviation is :\",s)\n",
        "print(\"varience is :\",v)"
      ],
      "execution_count": 4,
      "outputs": [
        {
          "output_type": "stream",
          "text": [
            "mean is : 68.0\n",
            "median is : 70.0\n",
            "mode is : ModeResult(mode=array([40]), count=array([1]))\n",
            "standard deviation is : 17.204650534085253\n",
            "varience is : 296.0\n"
          ],
          "name": "stdout"
        }
      ]
    },
    {
      "cell_type": "code",
      "metadata": {
        "id": "1GwibWwDXUDp"
      },
      "source": [
        ""
      ],
      "execution_count": null,
      "outputs": []
    }
  ]
}